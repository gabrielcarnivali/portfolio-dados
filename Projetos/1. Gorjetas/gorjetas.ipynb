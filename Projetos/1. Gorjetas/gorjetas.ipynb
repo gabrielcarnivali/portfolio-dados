{
 "cells": [
  {
   "cell_type": "markdown",
   "id": "c767a8ff",
   "metadata": {},
   "source": [
    "# projeto 1 : tratando e inserindo dados de gorjetas no postgresql"
   ]
  },
  {
   "cell_type": "code",
   "execution_count": null,
   "id": "594cf3d2",
   "metadata": {},
   "outputs": [],
   "source": [
    "# bibliotecas\n",
    "import pandas as pd\n",
    "from sqlalchemy import create_engine, text\n",
    "import os\n",
    "from dotenv import load_dotenv"
   ]
  },
  {
   "cell_type": "code",
   "execution_count": null,
   "id": "0f574277",
   "metadata": {},
   "outputs": [],
   "source": [
    "# carrega as variaveis do arquivo .env\n",
    "load_dotenv()  \n",
    "\n",
    "# trazendo as variaveis\n",
    "DB_NAME = os.getenv(\"DB_NAME\")\n",
    "DB_USER = os.getenv(\"DB_USER\")\n",
    "DB_PASSWORD = os.getenv(\"DB_PASSWORD\")\n",
    "DB_HOST = os.getenv(\"DB_HOST\")\n",
    "DB_PORT = os.getenv(\"DB_PORT\")\n",
    "\n",
    "\n",
    "# engine com sqlalchemy\n",
    "engine = create_engine(f'postgresql+psycopg2://{DB_USER}:{DB_PASSWORD}@{DB_HOST}:{DB_PORT}/{DB_NAME}')\n",
    "\n",
    "# testando a conexao(engine) com o banco de dados\n",
    "try:\n",
    "    with engine.connect() as conn:\n",
    "        conn.execute(text(\"SELECT 1\"))\n",
    "    print(\"conexao com postgresql com sucesso\")\n",
    "except Exception as e:\n",
    "    print(\"erro na conexao\", e)\n",
    "    raise"
   ]
  },
  {
   "cell_type": "code",
   "execution_count": null,
   "id": "eb72e2d0",
   "metadata": {},
   "outputs": [],
   "source": [
    "# carrega o arquivo csv\n",
    "caminho_do_arquivo = \"tips.csv\"\n",
    "df = pd.read_csv(caminho_do_arquivo, encoding=\"utf-8-sig\")\n",
    "df.columns"
   ]
  },
  {
   "cell_type": "code",
   "execution_count": null,
   "id": "078a32b3",
   "metadata": {},
   "outputs": [],
   "source": [
    "# mantem as colunas de interesse\n",
    "df = df[['total_bill', 'tip', 'sex', 'day', 'time', 'size']] "
   ]
  },
  {
   "cell_type": "code",
   "execution_count": null,
   "id": "6ea0b16c",
   "metadata": {},
   "outputs": [],
   "source": [
    "# renomear as colunas\n",
    "df.rename(columns={\n",
    "    'total_bill': 'valor_total',\n",
    "    'tip': 'gorjeta',\n",
    "    'sex': 'sexo',\n",
    "    'day': 'dia_semana_en',\n",
    "    'time': 'horario_en',\n",
    "    'size' : 'qtde_pessoas'\n",
    "}, inplace=True)\n",
    "df.head()"
   ]
  },
  {
   "cell_type": "code",
   "execution_count": null,
   "id": "8e80f98d",
   "metadata": {},
   "outputs": [],
   "source": [
    "# removendo linhas que não tem valor nas colunas mais importantes\n",
    "df.dropna(subset=['valor_total', 'gorjeta'], inplace=True)"
   ]
  },
  {
   "cell_type": "code",
   "execution_count": null,
   "id": "217d2f3f",
   "metadata": {},
   "outputs": [],
   "source": [
    "# convertendo os formatos de algumas colunas\n",
    "df = df.astype({\n",
    "    'valor_total': 'float',\n",
    "    'gorjeta': 'float',\n",
    "    'qtde_pessoas': 'int'\n",
    "})\n",
    "df.head()"
   ]
  },
  {
   "cell_type": "code",
   "execution_count": null,
   "id": "19f354b4",
   "metadata": {},
   "outputs": [],
   "source": [
    "# criando a tabela/zerando os dados antigos nela\n",
    "create_table_sql = \"\"\"\n",
    "CREATE TABLE IF NOT EXISTS gorjetas (\n",
    "    valor_total     FLOAT,\n",
    "    gorjeta         FLOAT,\n",
    "    sexo            VARCHAR(10),\n",
    "    dia_semana_en   VARCHAR(5),\n",
    "    horario_en      VARCHAR(10),\n",
    "    qtde_pessoas    INTEGER\n",
    ")\n",
    "\"\"\"\n",
    "\n",
    "with engine.connect() as conn:\n",
    "    conn.execute(text(create_table_sql))\n",
    "    conn.execute(text(\"TRUNCATE gorjetas\"))     # zera a tabela\n",
    "    conn.commit()\n",
    "\n",
    "print(\"tabela gorjetas está ok\")"
   ]
  },
  {
   "cell_type": "code",
   "execution_count": null,
   "id": "b49c8090",
   "metadata": {},
   "outputs": [],
   "source": [
    "# enviando o dataframe para a tabela, com append e não replace\n",
    "df.to_sql(\n",
    "    'gorjetas',\n",
    "    engine,\n",
    "    if_exists='append',  # não sobrescreve, só adiciona\n",
    "    index=False\n",
    ")\n",
    "\n",
    "print(f\"{len(df)} registros inseridos com sucesso\")"
   ]
  }
 ],
 "metadata": {
  "kernelspec": {
   "display_name": "portfolio",
   "language": "python",
   "name": "python3"
  },
  "language_info": {
   "codemirror_mode": {
    "name": "ipython",
    "version": 3
   },
   "file_extension": ".py",
   "mimetype": "text/x-python",
   "name": "python",
   "nbconvert_exporter": "python",
   "pygments_lexer": "ipython3",
   "version": "3.11.4"
  }
 },
 "nbformat": 4,
 "nbformat_minor": 5
}
